{
  "nbformat": 4,
  "nbformat_minor": 0,
  "metadata": {
    "colab": {
      "provenance": []
    },
    "kernelspec": {
      "name": "python3",
      "display_name": "Python 3"
    },
    "language_info": {
      "name": "python"
    }
  },
  "cells": [
    {
      "cell_type": "code",
      "source": [
        "import pandas as pd\n",
        "import datetime\n",
        "import pytz\n",
        "\n",
        "import kagglehub\n",
        "\n",
        "import numpy as np"
      ],
      "metadata": {
        "id": "0c1vNdSBzggk"
      },
      "execution_count": null,
      "outputs": []
    },
    {
      "cell_type": "code",
      "source": [
        "from google.colab import drive\n",
        "drive.mount('/content/drive')"
      ],
      "metadata": {
        "colab": {
          "base_uri": "https://localhost:8080/"
        },
        "id": "PWyoFjPGswwV",
        "outputId": "b9081d35-ac71-422d-e885-6232847598f4"
      },
      "execution_count": null,
      "outputs": [
        {
          "output_type": "stream",
          "name": "stdout",
          "text": [
            "Mounted at /content/drive\n"
          ]
        }
      ]
    },
    {
      "cell_type": "code",
      "execution_count": null,
      "metadata": {
        "colab": {
          "base_uri": "https://localhost:8080/",
          "height": 303
        },
        "collapsed": true,
        "id": "pCGDgB_BwsLw",
        "outputId": "abb45a1d-04a3-494e-9e08-343e7774defb"
      },
      "outputs": [
        {
          "output_type": "execute_result",
          "data": {
            "text/plain": [
              "cluster\n",
              "0    4124\n",
              "1    3694\n",
              "5    1145\n",
              "2    1078\n",
              "4     984\n",
              "3     834\n",
              "Name: count, dtype: int64"
            ],
            "text/html": [
              "<div>\n",
              "<style scoped>\n",
              "    .dataframe tbody tr th:only-of-type {\n",
              "        vertical-align: middle;\n",
              "    }\n",
              "\n",
              "    .dataframe tbody tr th {\n",
              "        vertical-align: top;\n",
              "    }\n",
              "\n",
              "    .dataframe thead th {\n",
              "        text-align: right;\n",
              "    }\n",
              "</style>\n",
              "<table border=\"1\" class=\"dataframe\">\n",
              "  <thead>\n",
              "    <tr style=\"text-align: right;\">\n",
              "      <th></th>\n",
              "      <th>count</th>\n",
              "    </tr>\n",
              "    <tr>\n",
              "      <th>cluster</th>\n",
              "      <th></th>\n",
              "    </tr>\n",
              "  </thead>\n",
              "  <tbody>\n",
              "    <tr>\n",
              "      <th>0</th>\n",
              "      <td>4124</td>\n",
              "    </tr>\n",
              "    <tr>\n",
              "      <th>1</th>\n",
              "      <td>3694</td>\n",
              "    </tr>\n",
              "    <tr>\n",
              "      <th>5</th>\n",
              "      <td>1145</td>\n",
              "    </tr>\n",
              "    <tr>\n",
              "      <th>2</th>\n",
              "      <td>1078</td>\n",
              "    </tr>\n",
              "    <tr>\n",
              "      <th>4</th>\n",
              "      <td>984</td>\n",
              "    </tr>\n",
              "    <tr>\n",
              "      <th>3</th>\n",
              "      <td>834</td>\n",
              "    </tr>\n",
              "  </tbody>\n",
              "</table>\n",
              "</div><br><label><b>dtype:</b> int64</label>"
            ]
          },
          "metadata": {},
          "execution_count": 5
        }
      ],
      "source": [
        "df_chosenClassOriginal = pd.read_csv('[LOCAL ONDE ARQUIVO FOI SALVO]/df_uniqueall-paraphrase-multilingual.csv', sep=';', encoding='utf-8') #classe 9 (acervo geral) com 6 clusters\n",
        "\n",
        "df_chosenClass = df_chosenClassOriginal[['author', 'title', 'publish', 'CDU', 'cluster']].copy()\n",
        "\n",
        "df_chosenClass.cluster.value_counts()"
      ]
    },
    {
      "cell_type": "code",
      "source": [
        "#@title contagem de valores na coluna df_chosenClass.cluster e inserir rótulo das contagens no gráfico\n",
        "\n",
        "import pandas as pd\n",
        "import matplotlib.pyplot as plt\n",
        "\n",
        "# Assuming df_chosenClass is already defined as in your previous code\n",
        "\n",
        "# Count the values in the 'cluster' column\n",
        "cluster_counts = df_chosenClass.cluster.value_counts()\n",
        "\n",
        "# Create the bar plot\n",
        "plt.figure(figsize=(10, 6))  # Adjust figure size if needed\n",
        "bars = plt.bar(cluster_counts.index, cluster_counts.values)\n",
        "\n",
        "# Add labels on top of each bar\n",
        "for bar in bars:\n",
        "    yval = bar.get_height()\n",
        "    plt.text(bar.get_x() + bar.get_width()/2, yval + 1, yval, ha='center', va='bottom')\n",
        "\n",
        "\n",
        "plt.xlabel('Cluster')\n",
        "plt.ylabel('Count')\n",
        "plt.title('Count of Values in Cluster Column')\n",
        "plt.show()\n"
      ],
      "metadata": {
        "colab": {
          "base_uri": "https://localhost:8080/",
          "height": 564
        },
        "id": "HeWM792Gvzzl",
        "outputId": "7b5cf200-e721-4182-d52b-1196b2c221a2"
      },
      "execution_count": null,
      "outputs": [
        {
          "output_type": "display_data",
          "data": {
            "text/plain": [
              "<Figure size 1000x600 with 1 Axes>"
            ],
            "image/png": "[encoded data removed]"
          },
          "metadata": {}
        }
      ]
    },
    {
      "cell_type": "code",
      "source": [
        "df_chosenClass.info()"
      ],
      "metadata": {
        "id": "n9X7G-VF6x-I",
        "outputId": "7cbb9a94-36ea-4e71-b041-5beb0b473188",
        "colab": {
          "base_uri": "https://localhost:8080/"
        }
      },
      "execution_count": null,
      "outputs": [
        {
          "output_type": "stream",
          "name": "stdout",
          "text": [
            "<class 'pandas.core.frame.DataFrame'>\n",
            "RangeIndex: 11859 entries, 0 to 11858\n",
            "Data columns (total 5 columns):\n",
            " #   Column   Non-Null Count  Dtype \n",
            "---  ------   --------------  ----- \n",
            " 0   author   10222 non-null  object\n",
            " 1   title    11859 non-null  object\n",
            " 2   publish  11858 non-null  object\n",
            " 3   CDU      11859 non-null  object\n",
            " 4   cluster  11859 non-null  int64 \n",
            "dtypes: int64(1), object(4)\n",
            "memory usage: 463.4+ KB\n"
          ]
        }
      ]
    },
    {
      "cell_type": "code",
      "source": [
        "#@title Definir parâmetros...\n",
        "num_clusters = 6 #@param\n",
        "loop_number = \"01\" #@param\n",
        "class_folder = \"df_slice_9\" #@param\n",
        "chosen_model = \"gemini-2.0-flash\" #@param"
      ],
      "metadata": {
        "id": "JArRcj4Q03C1"
      },
      "execution_count": null,
      "outputs": []
    },
    {
      "cell_type": "markdown",
      "source": [
        "# Analisando as linhas em cada Cluster"
      ],
      "metadata": {
        "id": "VCNspOPcxekq"
      }
    },
    {
      "cell_type": "code",
      "source": [
        "#@title Objetos df_cluster_X para cada um dos clusters\n",
        "\n",
        "for i in range(num_clusters):\n",
        "  globals()[f'df_chosenClass_cluster_{i}'] = df_chosenClass[df_chosenClass['cluster'] == i]\n"
      ],
      "metadata": {
        "id": "A3bCKgDywncs"
      },
      "execution_count": null,
      "outputs": []
    },
    {
      "cell_type": "code",
      "source": [
        "!pip install -q -U google-generativeai"
      ],
      "metadata": {
        "collapsed": true,
        "id": "W6UkMeCsZ06B"
      },
      "execution_count": null,
      "outputs": []
    },
    {
      "cell_type": "code",
      "source": [
        "from google.colab import userdata\n",
        "import os\n",
        "import google.generativeai as genai\n",
        "\n",
        "GOOGLE_API_KEY=userdata.get('GOOGLE_API_KEY')\n",
        "\n",
        "genai.configure(api_key=GOOGLE_API_KEY)"
      ],
      "metadata": {
        "id": "3RiEwjI6Tj6N"
      },
      "execution_count": null,
      "outputs": []
    },
    {
      "cell_type": "markdown",
      "source": [
        "# EXECUÇÃO PROMPT (final)"
      ],
      "metadata": {
        "id": "1g9ZxIKvDkQr"
      }
    },
    {
      "cell_type": "code",
      "source": [
        "#@title Execução do prompt para análise\n",
        "\"\"\" Você é um especialista em Classificação Decimal Universal (CDU).\n",
        "Analise a tabela abaixo que é um dos clusters obtidos com o algoritmo K-Means++ (a partir do embedding das colunas .CDU e .title),\n",
        "o cluster contém informações sobre livros e seus respectivos códigos CDU.\n",
        "A tabela possui as seguintes colunas: 'title', 'author', 'publish' e 'CDU', ignore a coluna 'cluster'.\n",
        "Os códigos CDU estão no formato numérico, seguindo a estrutura padrão da CDU.\n",
        "Identifique e analise os seguintes tipos de relações no cluster (tabela):\n",
        "Relações hierárquicas (códigos mais específicos dentro de códigos mais gerais).\n",
        "Associações entre assuntos (códigos que se complementam ou se relacionam).\n",
        "Se não houver relação entre os códigos, explicitar também essa informação.\n",
        "Forneça os resultados em formato de lista, indicando:\n",
        "Os códigos CDU analisados.\n",
        "As relações encontradas entre os códigos.\n",
        "Os quantitativos de códigos analisados.\n",
        "A análise tem como objetivo entender relações ocultas entre os livros na tabela e será utilizada por bibliotecários\n",
        "e pesquisadores para melhorar a organização e recuperação de informações.\"\"\"\n",
        "\n",
        "promptAtual = \"\"\" Você é um especialista em Classificação Decimal Universal (CDU).\n",
        "Analise a tabela abaixo que é um dos clusters obtidos com o algoritmo K-Means++ (a partir do embedding das colunas .CDU e .title),\n",
        "o cluster contém informações sobre livros e seus respectivos códigos CDU.\n",
        "A tabela possui as seguintes colunas: 'title', 'author', 'publish' e 'CDU', ignore a coluna 'cluster'.\n",
        "Os códigos CDU estão no formato numérico, seguindo a estrutura padrão da CDU.\n",
        "Identifique e analise os seguintes tipos de relações no cluster (tabela):\n",
        "Relações hierárquicas (códigos mais específicos dentro de códigos mais gerais).\n",
        "Associações entre assuntos (códigos que se complementam ou se relacionam).\n",
        "Se não houver relação entre os códigos, explicitar também essa informação.\n",
        "Forneça os resultados no formato de um texto, indicando as conclusões encontradas sobre:\n",
        "(1) Os códigos CDU analisados e (2) As relações encontradas entre os códigos.\n",
        "\n",
        "A análise tem como objetivo entender relações ocultas entre os livros na tabela e será utilizada por bibliotecários\n",
        "e pesquisadores para melhorar a organização e recuperação de informações.\n",
        "\"\"\"\n",
        "\n",
        "def get_current_datetime_gmt_minus_3():\n",
        "  \"\"\"Gets the current datetime for the GMT-3 timezone.\"\"\"\n",
        "  timezone = pytz.timezone('America/Sao_Paulo')\n",
        "  form_dtime = datetime.datetime.now(timezone).strftime(\"%d_%m_%Y\")\n",
        "  return form_dtime\n",
        "\n",
        "form_dtime = get_current_datetime_gmt_minus_3() #< registro na pasta de rede\n",
        "\n",
        "for k in range(num_clusters):\n",
        "    # Use get() to avoid KeyError if the DataFrame doesn't exist\n",
        "    df_cluster = globals().get(f'df_chosenClass_cluster_{k}')\n",
        "\n",
        "    # 0 definindo o tamanho da amostra do dataframe: fracAmostra\n",
        "    # Check if the DataFrame exists and is not empty (commons cluster may be empty)\n",
        "    if df_cluster is not None and not df_cluster.empty:\n",
        "        cluster_counts = len(df_cluster)\n",
        "        fracAmostra = float(1.0)\n",
        "        #if cluster_counts >= 50 and cluster_counts <= 100:\n",
        "            #fracAmostra = float(0.7)\n",
        "        #elif cluster_counts >= 100:\n",
        "            #fracAmostra = float(0.5)\n",
        "        #elif cluster_counts < 50:\n",
        "            #fracAmostra = float(0.8)\n",
        "\n",
        "    folderFrac = str(fracAmostra).replace('.', '') #<< nome da pasta para esta amostra\n",
        "\n",
        "    # 1 criando uma amostra do dataframe em função de limites no modelo usado\n",
        "    dataframe = globals()[f'df_chosenClass_cluster_{k}'].sample(frac=fracAmostra).to_string()\n",
        "\n",
        "    # 2 analisando o dataframe (sua amostra)\n",
        "    def analyze_code(dataframe, model_name):\n",
        "      model = genai.GenerativeModel(model_name)\n",
        "      response = model.generate_content(f'{promptAtual}:\\n\\n{dataframe}',\n",
        "      generation_config=genai.types.GenerationConfig(\n",
        "        # parâmetros\n",
        "        candidate_count=1,\n",
        "        #stop_sequences=[\"x\"],\n",
        "        #max_output_tokens=1024,\n",
        "        max_output_tokens=3072,\n",
        "        temperature=0.7,),\n",
        "      )\n",
        "      return response.text\n",
        "\n",
        "\n",
        "    model_folder = \"\".join(c for c in chosen_model if c.isalnum())\n",
        "\n",
        "    analysis_result = analyze_code(dataframe, chosen_model) # <<<< Modelo escolhido\n",
        "\n",
        "    # 3 criando o diretório para exportação (se ainda não existir)\n",
        "\n",
        "    output_dir = os.path.dirname(f\"/content/drive/MyDrive/CodeInTCC/analises/{form_dtime}/{loop_number}/{model_folder}/{class_folder}/{num_clusters}/{folderFrac}/\")\n",
        "    if not os.path.exists(output_dir):\n",
        "        os.makedirs(output_dir)\n",
        "\n",
        "    # 4 exportando a análise para arquivo texto\n",
        "    fileToSave = f\"cluster_{k}.txt\"\n",
        "    try:\n",
        "        with open(os.path.join(output_dir, fileToSave), \"w\", encoding=\"utf-8\") as f:\n",
        "            f.write(analysis_result)\n",
        "        print(f\"Análise do cluster {k} exportada para arquivo texto.\")\n",
        "    except Exception as e:\n",
        "        print(f\"Um erro ocorreu no processo de exportação do cluster {k}: {e}\")\n",
        "\n",
        "    # 5 exportando o cluster em formato .txt\n",
        "    current_cluster = globals()[f'df_chosenClass_cluster_{k}']\n",
        "    output_dir = f\"/content/drive/MyDrive/CodeInTCC/analises/{form_dtime}/{loop_number}/{model_folder}/{class_folder}/{num_clusters}/clustersEmCSV/\"\n",
        "    os.makedirs(output_dir, exist_ok=True)  # Create directory if it doesn't exist\n",
        "    csv_filename = os.path.join(output_dir, f\"cluster_{k}.csv\")\n",
        "    try:\n",
        "        current_cluster.to_csv(csv_filename, sep=\";\", encoding=\"utf-8\", index=False)\n",
        "        print(f\"Cluster {k} exportado para {csv_filename}\")\n",
        "    except Exception as e:\n",
        "        print(f\"Erro ao exportar o cluster {k}: {e}\")\n",
        "\n",
        "print(\"-------------FIM---------------------------\")\n",
        "print(f\"---------{num_clusters}-- exportados .txt-- \")\n"
      ],
      "metadata": {
        "id": "SbNxh7x7UwNM",
        "colab": {
          "base_uri": "https://localhost:8080/",
          "height": 273
        },
        "outputId": "ed30b644-beb8-4b08-e34c-051cd692670a"
      },
      "execution_count": null,
      "outputs": [
        {
          "output_type": "stream",
          "name": "stdout",
          "text": [
            "Análise do cluster 0 exportada para arquivo texto.\n",
            "Cluster 0 exportado para /content/drive/MyDrive/CodeInTCC/analises/01_04_2025/01/gemini20flash/df_slice_9/6/clustersEmCSV/cluster_0.csv\n",
            "Análise do cluster 1 exportada para arquivo texto.\n",
            "Cluster 1 exportado para /content/drive/MyDrive/CodeInTCC/analises/01_04_2025/01/gemini20flash/df_slice_9/6/clustersEmCSV/cluster_1.csv\n",
            "Análise do cluster 2 exportada para arquivo texto.\n",
            "Cluster 2 exportado para /content/drive/MyDrive/CodeInTCC/analises/01_04_2025/01/gemini20flash/df_slice_9/6/clustersEmCSV/cluster_2.csv\n",
            "Análise do cluster 3 exportada para arquivo texto.\n",
            "Cluster 3 exportado para /content/drive/MyDrive/CodeInTCC/analises/01_04_2025/01/gemini20flash/df_slice_9/6/clustersEmCSV/cluster_3.csv\n",
            "Análise do cluster 4 exportada para arquivo texto.\n",
            "Cluster 4 exportado para /content/drive/MyDrive/CodeInTCC/analises/01_04_2025/01/gemini20flash/df_slice_9/6/clustersEmCSV/cluster_4.csv\n",
            "Análise do cluster 5 exportada para arquivo texto.\n",
            "Cluster 5 exportado para /content/drive/MyDrive/CodeInTCC/analises/01_04_2025/01/gemini20flash/df_slice_9/6/clustersEmCSV/cluster_5.csv\n",
            "-------------FIM---------------------------\n",
            "---------6-- exportados .txt-- \n"
          ]
        }
      ]
    }
  ]
}